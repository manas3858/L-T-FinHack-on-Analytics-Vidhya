{
  "nbformat": 4,
  "nbformat_minor": 0,
  "metadata": {
    "colab": {
      "name": "Analytics Vidhya L&T FinHack.ipynb",
      "provenance": []
    },
    "kernelspec": {
      "name": "python3",
      "display_name": "Python 3"
    },
    "accelerator": "GPU"
  },
  "cells": [
    {
      "cell_type": "code",
      "metadata": {
        "id": "M3MJc4bSdGLa",
        "colab_type": "code",
        "outputId": "d84b296b-edb9-455a-9bce-6bdfdd573232",
        "colab": {
          "base_uri": "https://localhost:8080/",
          "height": 51
        }
      },
      "source": [
        "# Code to read csv file into Colaboratory:\n",
        "!pip install -U -q PyDrive\n",
        "from pydrive.auth import GoogleAuth\n",
        "from pydrive.drive import GoogleDrive\n",
        "from google.colab import auth\n",
        "from oauth2client.client import GoogleCredentials\n",
        "# Authenticate and create the PyDrive client.\n",
        "auth.authenticate_user()\n",
        "gauth = GoogleAuth()\n",
        "gauth.credentials = GoogleCredentials.get_application_default()\n",
        "drive = GoogleDrive(gauth)"
      ],
      "execution_count": 0,
      "outputs": [
        {
          "output_type": "stream",
          "text": [
            "\u001b[?25l\r\u001b[K     |▎                               | 10kB 22.3MB/s eta 0:00:01\r\u001b[K     |▋                               | 20kB 6.1MB/s eta 0:00:01\r\u001b[K     |█                               | 30kB 8.6MB/s eta 0:00:01\r\u001b[K     |█▎                              | 40kB 5.5MB/s eta 0:00:01\r\u001b[K     |█▋                              | 51kB 6.6MB/s eta 0:00:01\r\u001b[K     |██                              | 61kB 7.8MB/s eta 0:00:01\r\u001b[K     |██▎                             | 71kB 8.1MB/s eta 0:00:01\r\u001b[K     |██▋                             | 81kB 8.0MB/s eta 0:00:01\r\u001b[K     |███                             | 92kB 8.9MB/s eta 0:00:01\r\u001b[K     |███▎                            | 102kB 8.9MB/s eta 0:00:01\r\u001b[K     |███▋                            | 112kB 8.9MB/s eta 0:00:01\r\u001b[K     |████                            | 122kB 8.9MB/s eta 0:00:01\r\u001b[K     |████▎                           | 133kB 8.9MB/s eta 0:00:01\r\u001b[K     |████▋                           | 143kB 8.9MB/s eta 0:00:01\r\u001b[K     |█████                           | 153kB 8.9MB/s eta 0:00:01\r\u001b[K     |█████▎                          | 163kB 8.9MB/s eta 0:00:01\r\u001b[K     |█████▋                          | 174kB 8.9MB/s eta 0:00:01\r\u001b[K     |██████                          | 184kB 8.9MB/s eta 0:00:01\r\u001b[K     |██████▎                         | 194kB 8.9MB/s eta 0:00:01\r\u001b[K     |██████▋                         | 204kB 8.9MB/s eta 0:00:01\r\u001b[K     |███████                         | 215kB 8.9MB/s eta 0:00:01\r\u001b[K     |███████▎                        | 225kB 8.9MB/s eta 0:00:01\r\u001b[K     |███████▋                        | 235kB 8.9MB/s eta 0:00:01\r\u001b[K     |████████                        | 245kB 8.9MB/s eta 0:00:01\r\u001b[K     |████████▎                       | 256kB 8.9MB/s eta 0:00:01\r\u001b[K     |████████▋                       | 266kB 8.9MB/s eta 0:00:01\r\u001b[K     |█████████                       | 276kB 8.9MB/s eta 0:00:01\r\u001b[K     |█████████▎                      | 286kB 8.9MB/s eta 0:00:01\r\u001b[K     |█████████▋                      | 296kB 8.9MB/s eta 0:00:01\r\u001b[K     |██████████                      | 307kB 8.9MB/s eta 0:00:01\r\u001b[K     |██████████▎                     | 317kB 8.9MB/s eta 0:00:01\r\u001b[K     |██████████▋                     | 327kB 8.9MB/s eta 0:00:01\r\u001b[K     |███████████                     | 337kB 8.9MB/s eta 0:00:01\r\u001b[K     |███████████▎                    | 348kB 8.9MB/s eta 0:00:01\r\u001b[K     |███████████▋                    | 358kB 8.9MB/s eta 0:00:01\r\u001b[K     |████████████                    | 368kB 8.9MB/s eta 0:00:01\r\u001b[K     |████████████▎                   | 378kB 8.9MB/s eta 0:00:01\r\u001b[K     |████████████▋                   | 389kB 8.9MB/s eta 0:00:01\r\u001b[K     |█████████████                   | 399kB 8.9MB/s eta 0:00:01\r\u001b[K     |█████████████▎                  | 409kB 8.9MB/s eta 0:00:01\r\u001b[K     |█████████████▋                  | 419kB 8.9MB/s eta 0:00:01\r\u001b[K     |██████████████                  | 430kB 8.9MB/s eta 0:00:01\r\u001b[K     |██████████████▎                 | 440kB 8.9MB/s eta 0:00:01\r\u001b[K     |██████████████▋                 | 450kB 8.9MB/s eta 0:00:01\r\u001b[K     |███████████████                 | 460kB 8.9MB/s eta 0:00:01\r\u001b[K     |███████████████▎                | 471kB 8.9MB/s eta 0:00:01\r\u001b[K     |███████████████▋                | 481kB 8.9MB/s eta 0:00:01\r\u001b[K     |████████████████                | 491kB 8.9MB/s eta 0:00:01\r\u001b[K     |████████████████▎               | 501kB 8.9MB/s eta 0:00:01\r\u001b[K     |████████████████▋               | 512kB 8.9MB/s eta 0:00:01\r\u001b[K     |█████████████████               | 522kB 8.9MB/s eta 0:00:01\r\u001b[K     |█████████████████▎              | 532kB 8.9MB/s eta 0:00:01\r\u001b[K     |█████████████████▋              | 542kB 8.9MB/s eta 0:00:01\r\u001b[K     |██████████████████              | 552kB 8.9MB/s eta 0:00:01\r\u001b[K     |██████████████████▎             | 563kB 8.9MB/s eta 0:00:01\r\u001b[K     |██████████████████▋             | 573kB 8.9MB/s eta 0:00:01\r\u001b[K     |███████████████████             | 583kB 8.9MB/s eta 0:00:01\r\u001b[K     |███████████████████▎            | 593kB 8.9MB/s eta 0:00:01\r\u001b[K     |███████████████████▋            | 604kB 8.9MB/s eta 0:00:01\r\u001b[K     |████████████████████            | 614kB 8.9MB/s eta 0:00:01\r\u001b[K     |████████████████████▎           | 624kB 8.9MB/s eta 0:00:01\r\u001b[K     |████████████████████▋           | 634kB 8.9MB/s eta 0:00:01\r\u001b[K     |█████████████████████           | 645kB 8.9MB/s eta 0:00:01\r\u001b[K     |█████████████████████▎          | 655kB 8.9MB/s eta 0:00:01\r\u001b[K     |█████████████████████▋          | 665kB 8.9MB/s eta 0:00:01\r\u001b[K     |██████████████████████          | 675kB 8.9MB/s eta 0:00:01\r\u001b[K     |██████████████████████▎         | 686kB 8.9MB/s eta 0:00:01\r\u001b[K     |██████████████████████▋         | 696kB 8.9MB/s eta 0:00:01\r\u001b[K     |███████████████████████         | 706kB 8.9MB/s eta 0:00:01\r\u001b[K     |███████████████████████▎        | 716kB 8.9MB/s eta 0:00:01\r\u001b[K     |███████████████████████▋        | 727kB 8.9MB/s eta 0:00:01\r\u001b[K     |████████████████████████        | 737kB 8.9MB/s eta 0:00:01\r\u001b[K     |████████████████████████▎       | 747kB 8.9MB/s eta 0:00:01\r\u001b[K     |████████████████████████▋       | 757kB 8.9MB/s eta 0:00:01\r\u001b[K     |████████████████████████▉       | 768kB 8.9MB/s eta 0:00:01\r\u001b[K     |█████████████████████████▏      | 778kB 8.9MB/s eta 0:00:01\r\u001b[K     |█████████████████████████▌      | 788kB 8.9MB/s eta 0:00:01\r\u001b[K     |█████████████████████████▉      | 798kB 8.9MB/s eta 0:00:01\r\u001b[K     |██████████████████████████▏     | 808kB 8.9MB/s eta 0:00:01\r\u001b[K     |██████████████████████████▌     | 819kB 8.9MB/s eta 0:00:01\r\u001b[K     |██████████████████████████▉     | 829kB 8.9MB/s eta 0:00:01\r\u001b[K     |███████████████████████████▏    | 839kB 8.9MB/s eta 0:00:01\r\u001b[K     |███████████████████████████▌    | 849kB 8.9MB/s eta 0:00:01\r\u001b[K     |███████████████████████████▉    | 860kB 8.9MB/s eta 0:00:01\r\u001b[K     |████████████████████████████▏   | 870kB 8.9MB/s eta 0:00:01\r\u001b[K     |████████████████████████████▌   | 880kB 8.9MB/s eta 0:00:01\r\u001b[K     |████████████████████████████▉   | 890kB 8.9MB/s eta 0:00:01\r\u001b[K     |█████████████████████████████▏  | 901kB 8.9MB/s eta 0:00:01\r\u001b[K     |█████████████████████████████▌  | 911kB 8.9MB/s eta 0:00:01\r\u001b[K     |█████████████████████████████▉  | 921kB 8.9MB/s eta 0:00:01\r\u001b[K     |██████████████████████████████▏ | 931kB 8.9MB/s eta 0:00:01\r\u001b[K     |██████████████████████████████▌ | 942kB 8.9MB/s eta 0:00:01\r\u001b[K     |██████████████████████████████▉ | 952kB 8.9MB/s eta 0:00:01\r\u001b[K     |███████████████████████████████▏| 962kB 8.9MB/s eta 0:00:01\r\u001b[K     |███████████████████████████████▌| 972kB 8.9MB/s eta 0:00:01\r\u001b[K     |███████████████████████████████▉| 983kB 8.9MB/s eta 0:00:01\r\u001b[K     |████████████████████████████████| 993kB 8.9MB/s \n",
            "\u001b[?25h  Building wheel for PyDrive (setup.py) ... \u001b[?25l\u001b[?25hdone\n"
          ],
          "name": "stdout"
        }
      ]
    },
    {
      "cell_type": "code",
      "metadata": {
        "id": "Hb7r7aG-dtxR",
        "colab_type": "code",
        "outputId": "04fe2ddc-f76a-424e-cf2e-32e0b458018f",
        "colab": {
          "base_uri": "https://localhost:8080/",
          "height": 34
        }
      },
      "source": [
        "link = 'https://drive.google.com/open?id=16cz3FoEbylTsMjoJOlc9xAnEViZ6Twdb' # The shareable link\n",
        "\n",
        "fluff, id = link.split('=')\n",
        "print (id) # Verify that you have everything after '='\n",
        "\n",
        "downloaded = drive.CreateFile({'id':id}) \n",
        "downloaded.GetContentFile('train.csv') "
      ],
      "execution_count": 0,
      "outputs": [
        {
          "output_type": "stream",
          "text": [
            "16cz3FoEbylTsMjoJOlc9xAnEViZ6Twdb\n"
          ],
          "name": "stdout"
        }
      ]
    },
    {
      "cell_type": "code",
      "metadata": {
        "id": "dGtduAXp_yb-",
        "colab_type": "code",
        "outputId": "c1bc3eb8-b6da-4c82-98fa-2066d0a24bfc",
        "colab": {
          "base_uri": "https://localhost:8080/",
          "height": 34
        }
      },
      "source": [
        "link = 'https://drive.google.com/open?id=1-R7r1nEQBnUu3qGlH64LYyJ1CJyGgg5V' # The shareable link\n",
        "\n",
        "fluff, id = link.split('=')\n",
        "print (id) # Verify that you have everything after '='\n",
        "\n",
        "downloaded = drive.CreateFile({'id':id}) \n",
        "downloaded.GetContentFile('test.csv') \n",
        "  "
      ],
      "execution_count": 0,
      "outputs": [
        {
          "output_type": "stream",
          "text": [
            "1-R7r1nEQBnUu3qGlH64LYyJ1CJyGgg5V\n"
          ],
          "name": "stdout"
        }
      ]
    },
    {
      "cell_type": "code",
      "metadata": {
        "id": "LlrrotW-eGs5",
        "colab_type": "code",
        "outputId": "1a2d1668-7647-49ef-d4b1-8abb26c86402",
        "colab": {
          "base_uri": "https://localhost:8080/",
          "height": 34
        }
      },
      "source": [
        "import os\n",
        "os.listdir('/content/')"
      ],
      "execution_count": 0,
      "outputs": [
        {
          "output_type": "execute_result",
          "data": {
            "text/plain": [
              "['.config', 'adc.json', 'test.csv', 'train.csv', 'sample_data']"
            ]
          },
          "metadata": {
            "tags": []
          },
          "execution_count": 4
        }
      ]
    },
    {
      "cell_type": "code",
      "metadata": {
        "id": "OOqOxd1UJK5b",
        "colab_type": "code",
        "colab": {}
      },
      "source": [
        "import pandas as pd\n",
        "import numpy as np\n",
        "import matplotlib.pyplot as plt"
      ],
      "execution_count": 0,
      "outputs": []
    },
    {
      "cell_type": "code",
      "metadata": {
        "id": "hPbiQBMYePys",
        "colab_type": "code",
        "outputId": "76b77895-aabf-4757-df52-0927df6fbe1b",
        "colab": {
          "base_uri": "https://localhost:8080/",
          "height": 253
        }
      },
      "source": [
        "train = pd.read_csv('/content/train.csv',parse_dates=['Date.of.Birth','DisbursalDate'])\n",
        "train.head()"
      ],
      "execution_count": 0,
      "outputs": [
        {
          "output_type": "execute_result",
          "data": {
            "text/html": [
              "<div>\n",
              "<style scoped>\n",
              "    .dataframe tbody tr th:only-of-type {\n",
              "        vertical-align: middle;\n",
              "    }\n",
              "\n",
              "    .dataframe tbody tr th {\n",
              "        vertical-align: top;\n",
              "    }\n",
              "\n",
              "    .dataframe thead th {\n",
              "        text-align: right;\n",
              "    }\n",
              "</style>\n",
              "<table border=\"1\" class=\"dataframe\">\n",
              "  <thead>\n",
              "    <tr style=\"text-align: right;\">\n",
              "      <th></th>\n",
              "      <th>UniqueID</th>\n",
              "      <th>disbursed_amount</th>\n",
              "      <th>asset_cost</th>\n",
              "      <th>ltv</th>\n",
              "      <th>branch_id</th>\n",
              "      <th>supplier_id</th>\n",
              "      <th>manufacturer_id</th>\n",
              "      <th>Current_pincode_ID</th>\n",
              "      <th>Date.of.Birth</th>\n",
              "      <th>Employment.Type</th>\n",
              "      <th>...</th>\n",
              "      <th>SEC.SANCTIONED.AMOUNT</th>\n",
              "      <th>SEC.DISBURSED.AMOUNT</th>\n",
              "      <th>PRIMARY.INSTAL.AMT</th>\n",
              "      <th>SEC.INSTAL.AMT</th>\n",
              "      <th>NEW.ACCTS.IN.LAST.SIX.MONTHS</th>\n",
              "      <th>DELINQUENT.ACCTS.IN.LAST.SIX.MONTHS</th>\n",
              "      <th>AVERAGE.ACCT.AGE</th>\n",
              "      <th>CREDIT.HISTORY.LENGTH</th>\n",
              "      <th>NO.OF_INQUIRIES</th>\n",
              "      <th>loan_default</th>\n",
              "    </tr>\n",
              "  </thead>\n",
              "  <tbody>\n",
              "    <tr>\n",
              "      <th>0</th>\n",
              "      <td>420825</td>\n",
              "      <td>50578</td>\n",
              "      <td>58400</td>\n",
              "      <td>89.55</td>\n",
              "      <td>67</td>\n",
              "      <td>22807</td>\n",
              "      <td>45</td>\n",
              "      <td>1441</td>\n",
              "      <td>1984-01-01</td>\n",
              "      <td>Salaried</td>\n",
              "      <td>...</td>\n",
              "      <td>0</td>\n",
              "      <td>0</td>\n",
              "      <td>0</td>\n",
              "      <td>0</td>\n",
              "      <td>0</td>\n",
              "      <td>0</td>\n",
              "      <td>0yrs 0mon</td>\n",
              "      <td>0yrs 0mon</td>\n",
              "      <td>0</td>\n",
              "      <td>0</td>\n",
              "    </tr>\n",
              "    <tr>\n",
              "      <th>1</th>\n",
              "      <td>537409</td>\n",
              "      <td>47145</td>\n",
              "      <td>65550</td>\n",
              "      <td>73.23</td>\n",
              "      <td>67</td>\n",
              "      <td>22807</td>\n",
              "      <td>45</td>\n",
              "      <td>1502</td>\n",
              "      <td>1985-07-31</td>\n",
              "      <td>Self employed</td>\n",
              "      <td>...</td>\n",
              "      <td>0</td>\n",
              "      <td>0</td>\n",
              "      <td>1991</td>\n",
              "      <td>0</td>\n",
              "      <td>0</td>\n",
              "      <td>1</td>\n",
              "      <td>1yrs 11mon</td>\n",
              "      <td>1yrs 11mon</td>\n",
              "      <td>0</td>\n",
              "      <td>1</td>\n",
              "    </tr>\n",
              "    <tr>\n",
              "      <th>2</th>\n",
              "      <td>417566</td>\n",
              "      <td>53278</td>\n",
              "      <td>61360</td>\n",
              "      <td>89.63</td>\n",
              "      <td>67</td>\n",
              "      <td>22807</td>\n",
              "      <td>45</td>\n",
              "      <td>1497</td>\n",
              "      <td>1985-08-24</td>\n",
              "      <td>Self employed</td>\n",
              "      <td>...</td>\n",
              "      <td>0</td>\n",
              "      <td>0</td>\n",
              "      <td>0</td>\n",
              "      <td>0</td>\n",
              "      <td>0</td>\n",
              "      <td>0</td>\n",
              "      <td>0yrs 0mon</td>\n",
              "      <td>0yrs 0mon</td>\n",
              "      <td>0</td>\n",
              "      <td>0</td>\n",
              "    </tr>\n",
              "    <tr>\n",
              "      <th>3</th>\n",
              "      <td>624493</td>\n",
              "      <td>57513</td>\n",
              "      <td>66113</td>\n",
              "      <td>88.48</td>\n",
              "      <td>67</td>\n",
              "      <td>22807</td>\n",
              "      <td>45</td>\n",
              "      <td>1501</td>\n",
              "      <td>1993-12-30</td>\n",
              "      <td>Self employed</td>\n",
              "      <td>...</td>\n",
              "      <td>0</td>\n",
              "      <td>0</td>\n",
              "      <td>31</td>\n",
              "      <td>0</td>\n",
              "      <td>0</td>\n",
              "      <td>0</td>\n",
              "      <td>0yrs 8mon</td>\n",
              "      <td>1yrs 3mon</td>\n",
              "      <td>1</td>\n",
              "      <td>1</td>\n",
              "    </tr>\n",
              "    <tr>\n",
              "      <th>4</th>\n",
              "      <td>539055</td>\n",
              "      <td>52378</td>\n",
              "      <td>60300</td>\n",
              "      <td>88.39</td>\n",
              "      <td>67</td>\n",
              "      <td>22807</td>\n",
              "      <td>45</td>\n",
              "      <td>1495</td>\n",
              "      <td>1977-09-12</td>\n",
              "      <td>Self employed</td>\n",
              "      <td>...</td>\n",
              "      <td>0</td>\n",
              "      <td>0</td>\n",
              "      <td>0</td>\n",
              "      <td>0</td>\n",
              "      <td>0</td>\n",
              "      <td>0</td>\n",
              "      <td>0yrs 0mon</td>\n",
              "      <td>0yrs 0mon</td>\n",
              "      <td>1</td>\n",
              "      <td>1</td>\n",
              "    </tr>\n",
              "  </tbody>\n",
              "</table>\n",
              "<p>5 rows × 41 columns</p>\n",
              "</div>"
            ],
            "text/plain": [
              "   UniqueID  disbursed_amount  asset_cost    ltv  branch_id  supplier_id  \\\n",
              "0    420825             50578       58400  89.55         67        22807   \n",
              "1    537409             47145       65550  73.23         67        22807   \n",
              "2    417566             53278       61360  89.63         67        22807   \n",
              "3    624493             57513       66113  88.48         67        22807   \n",
              "4    539055             52378       60300  88.39         67        22807   \n",
              "\n",
              "   manufacturer_id  Current_pincode_ID Date.of.Birth Employment.Type  ...  \\\n",
              "0               45                1441    1984-01-01        Salaried  ...   \n",
              "1               45                1502    1985-07-31   Self employed  ...   \n",
              "2               45                1497    1985-08-24   Self employed  ...   \n",
              "3               45                1501    1993-12-30   Self employed  ...   \n",
              "4               45                1495    1977-09-12   Self employed  ...   \n",
              "\n",
              "  SEC.SANCTIONED.AMOUNT  SEC.DISBURSED.AMOUNT  PRIMARY.INSTAL.AMT  \\\n",
              "0                     0                     0                   0   \n",
              "1                     0                     0                1991   \n",
              "2                     0                     0                   0   \n",
              "3                     0                     0                  31   \n",
              "4                     0                     0                   0   \n",
              "\n",
              "   SEC.INSTAL.AMT  NEW.ACCTS.IN.LAST.SIX.MONTHS  \\\n",
              "0               0                             0   \n",
              "1               0                             0   \n",
              "2               0                             0   \n",
              "3               0                             0   \n",
              "4               0                             0   \n",
              "\n",
              "   DELINQUENT.ACCTS.IN.LAST.SIX.MONTHS  AVERAGE.ACCT.AGE  \\\n",
              "0                                    0         0yrs 0mon   \n",
              "1                                    1        1yrs 11mon   \n",
              "2                                    0         0yrs 0mon   \n",
              "3                                    0         0yrs 8mon   \n",
              "4                                    0         0yrs 0mon   \n",
              "\n",
              "   CREDIT.HISTORY.LENGTH  NO.OF_INQUIRIES  loan_default  \n",
              "0              0yrs 0mon                0             0  \n",
              "1             1yrs 11mon                0             1  \n",
              "2              0yrs 0mon                0             0  \n",
              "3              1yrs 3mon                1             1  \n",
              "4              0yrs 0mon                1             1  \n",
              "\n",
              "[5 rows x 41 columns]"
            ]
          },
          "metadata": {
            "tags": []
          },
          "execution_count": 11
        }
      ]
    },
    {
      "cell_type": "code",
      "metadata": {
        "id": "tMTuSi14AOFf",
        "colab_type": "code",
        "colab": {}
      },
      "source": [
        "test = pd.read_csv('/content/test.csv',parse_dates=['Date.of.Birth','DisbursalDate'])"
      ],
      "execution_count": 0,
      "outputs": []
    },
    {
      "cell_type": "code",
      "metadata": {
        "id": "9ZkJrJLre83S",
        "colab_type": "code",
        "outputId": "d29404da-1dfc-4016-e2f7-97b5943b9c16",
        "colab": {
          "base_uri": "https://localhost:8080/",
          "height": 799
        }
      },
      "source": [
        "train.info()"
      ],
      "execution_count": 0,
      "outputs": [
        {
          "output_type": "stream",
          "text": [
            "<class 'pandas.core.frame.DataFrame'>\n",
            "RangeIndex: 233154 entries, 0 to 233153\n",
            "Data columns (total 41 columns):\n",
            "UniqueID                               233154 non-null int64\n",
            "disbursed_amount                       233154 non-null int64\n",
            "asset_cost                             233154 non-null int64\n",
            "ltv                                    233154 non-null float64\n",
            "branch_id                              233154 non-null int64\n",
            "supplier_id                            233154 non-null int64\n",
            "manufacturer_id                        233154 non-null int64\n",
            "Current_pincode_ID                     233154 non-null int64\n",
            "Date.of.Birth                          233154 non-null object\n",
            "Employment.Type                        225493 non-null object\n",
            "DisbursalDate                          233154 non-null object\n",
            "State_ID                               233154 non-null int64\n",
            "Employee_code_ID                       233154 non-null int64\n",
            "MobileNo_Avl_Flag                      233154 non-null int64\n",
            "Aadhar_flag                            233154 non-null int64\n",
            "PAN_flag                               233154 non-null int64\n",
            "VoterID_flag                           233154 non-null int64\n",
            "Driving_flag                           233154 non-null int64\n",
            "Passport_flag                          233154 non-null int64\n",
            "PERFORM_CNS.SCORE                      233154 non-null int64\n",
            "PERFORM_CNS.SCORE.DESCRIPTION          233154 non-null object\n",
            "PRI.NO.OF.ACCTS                        233154 non-null int64\n",
            "PRI.ACTIVE.ACCTS                       233154 non-null int64\n",
            "PRI.OVERDUE.ACCTS                      233154 non-null int64\n",
            "PRI.CURRENT.BALANCE                    233154 non-null int64\n",
            "PRI.SANCTIONED.AMOUNT                  233154 non-null int64\n",
            "PRI.DISBURSED.AMOUNT                   233154 non-null int64\n",
            "SEC.NO.OF.ACCTS                        233154 non-null int64\n",
            "SEC.ACTIVE.ACCTS                       233154 non-null int64\n",
            "SEC.OVERDUE.ACCTS                      233154 non-null int64\n",
            "SEC.CURRENT.BALANCE                    233154 non-null int64\n",
            "SEC.SANCTIONED.AMOUNT                  233154 non-null int64\n",
            "SEC.DISBURSED.AMOUNT                   233154 non-null int64\n",
            "PRIMARY.INSTAL.AMT                     233154 non-null int64\n",
            "SEC.INSTAL.AMT                         233154 non-null int64\n",
            "NEW.ACCTS.IN.LAST.SIX.MONTHS           233154 non-null int64\n",
            "DELINQUENT.ACCTS.IN.LAST.SIX.MONTHS    233154 non-null int64\n",
            "AVERAGE.ACCT.AGE                       233154 non-null object\n",
            "CREDIT.HISTORY.LENGTH                  233154 non-null object\n",
            "NO.OF_INQUIRIES                        233154 non-null int64\n",
            "loan_default                           233154 non-null int64\n",
            "dtypes: float64(1), int64(34), object(6)\n",
            "memory usage: 72.9+ MB\n"
          ],
          "name": "stdout"
        }
      ]
    },
    {
      "cell_type": "code",
      "metadata": {
        "id": "ZaMCH7_Gejr-",
        "colab_type": "code",
        "outputId": "a4e691a2-c27d-49e9-9029-d1728eb18b91",
        "colab": {
          "base_uri": "https://localhost:8080/",
          "height": 731
        }
      },
      "source": [
        "train.isnull().sum()"
      ],
      "execution_count": 0,
      "outputs": [
        {
          "output_type": "execute_result",
          "data": {
            "text/plain": [
              "UniqueID                                  0\n",
              "disbursed_amount                          0\n",
              "asset_cost                                0\n",
              "ltv                                       0\n",
              "branch_id                                 0\n",
              "supplier_id                               0\n",
              "manufacturer_id                           0\n",
              "Current_pincode_ID                        0\n",
              "Date.of.Birth                             0\n",
              "Employment.Type                        7661\n",
              "DisbursalDate                             0\n",
              "State_ID                                  0\n",
              "Employee_code_ID                          0\n",
              "MobileNo_Avl_Flag                         0\n",
              "Aadhar_flag                               0\n",
              "PAN_flag                                  0\n",
              "VoterID_flag                              0\n",
              "Driving_flag                              0\n",
              "Passport_flag                             0\n",
              "PERFORM_CNS.SCORE                         0\n",
              "PERFORM_CNS.SCORE.DESCRIPTION             0\n",
              "PRI.NO.OF.ACCTS                           0\n",
              "PRI.ACTIVE.ACCTS                          0\n",
              "PRI.OVERDUE.ACCTS                         0\n",
              "PRI.CURRENT.BALANCE                       0\n",
              "PRI.SANCTIONED.AMOUNT                     0\n",
              "PRI.DISBURSED.AMOUNT                      0\n",
              "SEC.NO.OF.ACCTS                           0\n",
              "SEC.ACTIVE.ACCTS                          0\n",
              "SEC.OVERDUE.ACCTS                         0\n",
              "SEC.CURRENT.BALANCE                       0\n",
              "SEC.SANCTIONED.AMOUNT                     0\n",
              "SEC.DISBURSED.AMOUNT                      0\n",
              "PRIMARY.INSTAL.AMT                        0\n",
              "SEC.INSTAL.AMT                            0\n",
              "NEW.ACCTS.IN.LAST.SIX.MONTHS              0\n",
              "DELINQUENT.ACCTS.IN.LAST.SIX.MONTHS       0\n",
              "AVERAGE.ACCT.AGE                          0\n",
              "CREDIT.HISTORY.LENGTH                     0\n",
              "NO.OF_INQUIRIES                           0\n",
              "loan_default                              0\n",
              "dtype: int64"
            ]
          },
          "metadata": {
            "tags": []
          },
          "execution_count": 67
        }
      ]
    },
    {
      "cell_type": "code",
      "metadata": {
        "id": "FpiGU769SgeW",
        "colab_type": "code",
        "outputId": "2ee58a35-159d-455b-b03e-bef3e4aade33",
        "colab": {
          "base_uri": "https://localhost:8080/",
          "height": 714
        }
      },
      "source": [
        "test.isnull().sum()"
      ],
      "execution_count": 0,
      "outputs": [
        {
          "output_type": "execute_result",
          "data": {
            "text/plain": [
              "UniqueID                                  0\n",
              "disbursed_amount                          0\n",
              "asset_cost                                0\n",
              "ltv                                       0\n",
              "branch_id                                 0\n",
              "supplier_id                               0\n",
              "manufacturer_id                           0\n",
              "Current_pincode_ID                        0\n",
              "Date.of.Birth                             0\n",
              "Employment.Type                        3443\n",
              "DisbursalDate                             0\n",
              "State_ID                                  0\n",
              "Employee_code_ID                          0\n",
              "MobileNo_Avl_Flag                         0\n",
              "Aadhar_flag                               0\n",
              "PAN_flag                                  0\n",
              "VoterID_flag                              0\n",
              "Driving_flag                              0\n",
              "Passport_flag                             0\n",
              "PERFORM_CNS.SCORE                         0\n",
              "PERFORM_CNS.SCORE.DESCRIPTION             0\n",
              "PRI.NO.OF.ACCTS                           0\n",
              "PRI.ACTIVE.ACCTS                          0\n",
              "PRI.OVERDUE.ACCTS                         0\n",
              "PRI.CURRENT.BALANCE                       0\n",
              "PRI.SANCTIONED.AMOUNT                     0\n",
              "PRI.DISBURSED.AMOUNT                      0\n",
              "SEC.NO.OF.ACCTS                           0\n",
              "SEC.ACTIVE.ACCTS                          0\n",
              "SEC.OVERDUE.ACCTS                         0\n",
              "SEC.CURRENT.BALANCE                       0\n",
              "SEC.SANCTIONED.AMOUNT                     0\n",
              "SEC.DISBURSED.AMOUNT                      0\n",
              "PRIMARY.INSTAL.AMT                        0\n",
              "SEC.INSTAL.AMT                            0\n",
              "NEW.ACCTS.IN.LAST.SIX.MONTHS              0\n",
              "DELINQUENT.ACCTS.IN.LAST.SIX.MONTHS       0\n",
              "AVERAGE.ACCT.AGE                          0\n",
              "CREDIT.HISTORY.LENGTH                     0\n",
              "NO.OF_INQUIRIES                           0\n",
              "dtype: int64"
            ]
          },
          "metadata": {
            "tags": []
          },
          "execution_count": 68
        }
      ]
    },
    {
      "cell_type": "code",
      "metadata": {
        "id": "zObGN8OIJtON",
        "colab_type": "code",
        "colab": {}
      },
      "source": [
        "#treating Employment Type Null values"
      ],
      "execution_count": 0,
      "outputs": []
    },
    {
      "cell_type": "code",
      "metadata": {
        "id": "15TAoYKEKKEU",
        "colab_type": "code",
        "outputId": "9cee0fbe-5457-4fe2-84ca-13979309c5c1",
        "colab": {
          "base_uri": "https://localhost:8080/",
          "height": 68
        }
      },
      "source": [
        "train['Employment.Type'].value_counts()"
      ],
      "execution_count": 0,
      "outputs": [
        {
          "output_type": "execute_result",
          "data": {
            "text/plain": [
              "Self employed    127635\n",
              "Salaried          97858\n",
              "Name: Employment.Type, dtype: int64"
            ]
          },
          "metadata": {
            "tags": []
          },
          "execution_count": 70
        }
      ]
    },
    {
      "cell_type": "code",
      "metadata": {
        "id": "DZq6M23DKWyN",
        "colab_type": "code",
        "colab": {}
      },
      "source": [
        "#the nulls could be unemployed people\n",
        "train['Employment.Type'].fillna('Unemployed', inplace = True)\n",
        "test['Employment.Type'].fillna('Unemployed', inplace = True)"
      ],
      "execution_count": 0,
      "outputs": []
    },
    {
      "cell_type": "code",
      "metadata": {
        "id": "U66G8iNOPjPm",
        "colab_type": "code",
        "colab": {}
      },
      "source": [
        "train['Year.of.Birth'] = train['Date.of.Birth'].dt.year\n",
        "test['Year.of.Birth'] = test['Date.of.Birth'].dt.year"
      ],
      "execution_count": 0,
      "outputs": []
    },
    {
      "cell_type": "code",
      "metadata": {
        "id": "e7Uk-9Q8dSsq",
        "colab_type": "code",
        "outputId": "2830e5f9-1092-4a74-9247-a7e168f1aa5c",
        "colab": {
          "base_uri": "https://localhost:8080/",
          "height": 119
        }
      },
      "source": [
        "train['Year.of.Birth'].value_counts().values"
      ],
      "execution_count": 0,
      "outputs": [
        {
          "output_type": "execute_result",
          "data": {
            "text/plain": [
              "array([10584, 10530, 10390, 10211, 10116, 10007,  9385,  9232,  8903,\n",
              "        8633,  8441,  7922,  7489,  7481,  7140,  7018,  6788,  6178,\n",
              "        5883,  5627,  5614,  5581,  5310,  4638,  4466,  4366,  4063,\n",
              "        3721,  3147,  3081,  2522,  2397,  2268,  2188,  1773,  1604,\n",
              "        1556,  1478,  1241,  1173,   816,   632,   621,   412,   337,\n",
              "         169,    21,     1])"
            ]
          },
          "metadata": {
            "tags": []
          },
          "execution_count": 73
        }
      ]
    },
    {
      "cell_type": "code",
      "metadata": {
        "id": "2yA4tF9Ubbv4",
        "colab_type": "code",
        "outputId": "0fd54fd5-82b9-4b68-d3a4-55e068d70380",
        "colab": {
          "base_uri": "https://localhost:8080/",
          "height": 269
        }
      },
      "source": [
        "plt.bar(train['Year.of.Birth'].value_counts().index,train['Year.of.Birth'].value_counts().values)\n",
        "plt.show()"
      ],
      "execution_count": 0,
      "outputs": [
        {
          "output_type": "display_data",
          "data": {
            "image/png": "[encoded data removed]",
            "text/plain": [
              "<Figure size 432x288 with 1 Axes>"
            ]
          },
          "metadata": {
            "tags": []
          }
        }
      ]
    },
    {
      "cell_type": "code",
      "metadata": {
        "id": "4-l11zPKdvsA",
        "colab_type": "code",
        "colab": {}
      },
      "source": [
        "train.loc[train['Year.of.Birth']>2040,'Year.of.Birth'] = train['Year.of.Birth'] - 100\n",
        "test.loc[test['Year.of.Birth']>2040,'Year.of.Birth'] = test['Year.of.Birth'] - 100"
      ],
      "execution_count": 0,
      "outputs": []
    },
    {
      "cell_type": "code",
      "metadata": {
        "id": "ue_jRK5SoD04",
        "colab_type": "code",
        "outputId": "eaefdabf-7716-4185-d905-aa5621e369ad",
        "colab": {
          "base_uri": "https://localhost:8080/",
          "height": 269
        }
      },
      "source": [
        "plt.bar(train['Year.of.Birth'].value_counts().index,train['Year.of.Birth'].value_counts().values)\n",
        "plt.show()"
      ],
      "execution_count": 0,
      "outputs": [
        {
          "output_type": "display_data",
          "data": {
            "image/png": "[encoded data removed]",
            "text/plain": [
              "<Figure size 432x288 with 1 Axes>"
            ]
          },
          "metadata": {
            "tags": []
          }
        }
      ]
    },
    {
      "cell_type": "code",
      "metadata": {
        "id": "HYBOWqQdA7as",
        "colab_type": "code",
        "outputId": "6d31c47e-1ba5-4e6e-c954-7143843fa1bf",
        "colab": {
          "base_uri": "https://localhost:8080/",
          "height": 269
        }
      },
      "source": [
        "plt.bar(test['Year.of.Birth'].value_counts().index,test['Year.of.Birth'].value_counts().values)\n",
        "plt.show()"
      ],
      "execution_count": 0,
      "outputs": [
        {
          "output_type": "display_data",
          "data": {
            "image/png": "[encoded data removed]",
            "text/plain": [
              "<Figure size 432x288 with 1 Axes>"
            ]
          },
          "metadata": {
            "tags": []
          }
        }
      ]
    },
    {
      "cell_type": "code",
      "metadata": {
        "id": "2QLgFj55XY7r",
        "colab_type": "code",
        "colab": {}
      },
      "source": [
        "train['DisbursalDate'] = train['DisbursalDate'].dt.year\n",
        "test['DisbursalDate'] = test['DisbursalDate'].dt.year"
      ],
      "execution_count": 0,
      "outputs": []
    },
    {
      "cell_type": "code",
      "metadata": {
        "id": "GJl5-9xvXwd-",
        "colab_type": "code",
        "outputId": "bcba748c-4a8f-4cdd-cb50-d219a3f7cbbf",
        "colab": {
          "base_uri": "https://localhost:8080/",
          "height": 255
        }
      },
      "source": [
        "train.columns"
      ],
      "execution_count": 0,
      "outputs": [
        {
          "output_type": "execute_result",
          "data": {
            "text/plain": [
              "Index(['UniqueID', 'disbursed_amount', 'asset_cost', 'ltv', 'branch_id',\n",
              "       'supplier_id', 'manufacturer_id', 'Current_pincode_ID', 'Date.of.Birth',\n",
              "       'Employment.Type', 'DisbursalDate', 'State_ID', 'Employee_code_ID',\n",
              "       'MobileNo_Avl_Flag', 'Aadhar_flag', 'PAN_flag', 'VoterID_flag',\n",
              "       'Driving_flag', 'Passport_flag', 'PERFORM_CNS.SCORE',\n",
              "       'PERFORM_CNS.SCORE.DESCRIPTION', 'PRI.NO.OF.ACCTS', 'PRI.ACTIVE.ACCTS',\n",
              "       'PRI.OVERDUE.ACCTS', 'PRI.CURRENT.BALANCE', 'PRI.SANCTIONED.AMOUNT',\n",
              "       'PRI.DISBURSED.AMOUNT', 'SEC.NO.OF.ACCTS', 'SEC.ACTIVE.ACCTS',\n",
              "       'SEC.OVERDUE.ACCTS', 'SEC.CURRENT.BALANCE', 'SEC.SANCTIONED.AMOUNT',\n",
              "       'SEC.DISBURSED.AMOUNT', 'PRIMARY.INSTAL.AMT', 'SEC.INSTAL.AMT',\n",
              "       'NEW.ACCTS.IN.LAST.SIX.MONTHS', 'DELINQUENT.ACCTS.IN.LAST.SIX.MONTHS',\n",
              "       'AVERAGE.ACCT.AGE', 'CREDIT.HISTORY.LENGTH', 'NO.OF_INQUIRIES',\n",
              "       'loan_default', 'Year.of.Birth'],\n",
              "      dtype='object')"
            ]
          },
          "metadata": {
            "tags": []
          },
          "execution_count": 79
        }
      ]
    },
    {
      "cell_type": "code",
      "metadata": {
        "id": "mvOCQF4KszMe",
        "colab_type": "code",
        "outputId": "bfbb3fb4-ddcc-4757-f289-d576d982ae6c",
        "colab": {
          "base_uri": "https://localhost:8080/",
          "height": 119
        }
      },
      "source": [
        "train['DisbursalDate'].head()"
      ],
      "execution_count": 0,
      "outputs": [
        {
          "output_type": "execute_result",
          "data": {
            "text/plain": [
              "0    2018\n",
              "1    2018\n",
              "2    2018\n",
              "3    2018\n",
              "4    2018\n",
              "Name: DisbursalDate, dtype: int64"
            ]
          },
          "metadata": {
            "tags": []
          },
          "execution_count": 80
        }
      ]
    },
    {
      "cell_type": "code",
      "metadata": {
        "id": "nAdrE_3RTTyS",
        "colab_type": "code",
        "outputId": "dc86441f-9aa8-45c2-84f3-ddf5b4c287dd",
        "colab": {
          "base_uri": "https://localhost:8080/",
          "height": 663
        }
      },
      "source": [
        "train.corr()['loan_default']"
      ],
      "execution_count": 0,
      "outputs": [
        {
          "output_type": "execute_result",
          "data": {
            "text/plain": [
              "UniqueID                               0.033848\n",
              "disbursed_amount                       0.077675\n",
              "asset_cost                             0.014261\n",
              "ltv                                    0.098208\n",
              "branch_id                              0.030193\n",
              "supplier_id                            0.027357\n",
              "manufacturer_id                       -0.025039\n",
              "Current_pincode_ID                     0.028419\n",
              "DisbursalDate                               NaN\n",
              "State_ID                               0.048075\n",
              "Employee_code_ID                       0.020657\n",
              "MobileNo_Avl_Flag                           NaN\n",
              "Aadhar_flag                           -0.041593\n",
              "PAN_flag                               0.002046\n",
              "VoterID_flag                           0.043747\n",
              "Driving_flag                          -0.005821\n",
              "Passport_flag                         -0.007602\n",
              "PERFORM_CNS.SCORE                     -0.057929\n",
              "PRI.NO.OF.ACCTS                       -0.035456\n",
              "PRI.ACTIVE.ACCTS                      -0.041451\n",
              "PRI.OVERDUE.ACCTS                      0.040872\n",
              "PRI.CURRENT.BALANCE                   -0.027386\n",
              "PRI.SANCTIONED.AMOUNT                 -0.011304\n",
              "PRI.DISBURSED.AMOUNT                  -0.011155\n",
              "SEC.NO.OF.ACCTS                       -0.008385\n",
              "SEC.ACTIVE.ACCTS                      -0.005993\n",
              "SEC.OVERDUE.ACCTS                     -0.001371\n",
              "SEC.CURRENT.BALANCE                   -0.005531\n",
              "SEC.SANCTIONED.AMOUNT                 -0.006354\n",
              "SEC.DISBURSED.AMOUNT                  -0.006248\n",
              "PRIMARY.INSTAL.AMT                    -0.010616\n",
              "SEC.INSTAL.AMT                        -0.001548\n",
              "NEW.ACCTS.IN.LAST.SIX.MONTHS          -0.029400\n",
              "DELINQUENT.ACCTS.IN.LAST.SIX.MONTHS    0.034462\n",
              "NO.OF_INQUIRIES                        0.043678\n",
              "loan_default                           1.000000\n",
              "Year.of.Birth                          0.037287\n",
              "Name: loan_default, dtype: float64"
            ]
          },
          "metadata": {
            "tags": []
          },
          "execution_count": 81
        }
      ]
    },
    {
      "cell_type": "code",
      "metadata": {
        "id": "TRnbvMjHZiH4",
        "colab_type": "code",
        "outputId": "3acb11f0-049d-4d56-88ff-474f51078229",
        "colab": {
          "base_uri": "https://localhost:8080/",
          "height": 119
        }
      },
      "source": [
        "train['AVERAGE.ACCT.AGE'].head()"
      ],
      "execution_count": 0,
      "outputs": [
        {
          "output_type": "execute_result",
          "data": {
            "text/plain": [
              "0     0yrs 0mon\n",
              "1    1yrs 11mon\n",
              "2     0yrs 0mon\n",
              "3     0yrs 8mon\n",
              "4     0yrs 0mon\n",
              "Name: AVERAGE.ACCT.AGE, dtype: object"
            ]
          },
          "metadata": {
            "tags": []
          },
          "execution_count": 82
        }
      ]
    },
    {
      "cell_type": "code",
      "metadata": {
        "id": "1KLcYn6eaYbn",
        "colab_type": "code",
        "colab": {}
      },
      "source": [
        "train['avg_acct_age_mnth'] = ((train['AVERAGE.ACCT.AGE'].str.extract('(\\d+)yrs').astype('int64')*12) + train['AVERAGE.ACCT.AGE'].str.extract('(\\d+)mon').astype('int64'))\n",
        "train['avg_credit_hist_mnth'] = ((train['CREDIT.HISTORY.LENGTH'].str.extract('(\\d+)yrs').astype('int64')*12) + train['CREDIT.HISTORY.LENGTH'].str.extract('(\\d+)mon').astype('int64'))"
      ],
      "execution_count": 0,
      "outputs": []
    },
    {
      "cell_type": "code",
      "metadata": {
        "id": "hRRIDBZ-dSwa",
        "colab_type": "code",
        "colab": {}
      },
      "source": [
        "test['avg_acct_age_mnth'] = ((test['AVERAGE.ACCT.AGE'].str.extract('(\\d+)yrs').astype('int64')*12) + test['AVERAGE.ACCT.AGE'].str.extract('(\\d+)mon').astype('int64'))\n",
        "test['avg_credit_hist_mnth'] = ((test['CREDIT.HISTORY.LENGTH'].str.extract('(\\d+)yrs').astype('int64')*12) + test['CREDIT.HISTORY.LENGTH'].str.extract('(\\d+)mon').astype('int64'))"
      ],
      "execution_count": 0,
      "outputs": []
    },
    {
      "cell_type": "code",
      "metadata": {
        "id": "SW2X6KO6b9A9",
        "colab_type": "code",
        "outputId": "bf29a8e6-e863-498f-ed1c-1e7c242cc604",
        "colab": {
          "base_uri": "https://localhost:8080/",
          "height": 459
        }
      },
      "source": [
        "train['NO.OF_INQUIRIES'].value_counts()"
      ],
      "execution_count": 0,
      "outputs": [
        {
          "output_type": "execute_result",
          "data": {
            "text/plain": [
              "0     201961\n",
              "1      22285\n",
              "2       5409\n",
              "3       1767\n",
              "4        760\n",
              "5        343\n",
              "6        239\n",
              "7        135\n",
              "8        105\n",
              "9         44\n",
              "10        34\n",
              "11        15\n",
              "12        14\n",
              "14         8\n",
              "15         7\n",
              "13         6\n",
              "19         6\n",
              "17         4\n",
              "18         4\n",
              "16         3\n",
              "28         1\n",
              "20         1\n",
              "22         1\n",
              "23         1\n",
              "36         1\n",
              "Name: NO.OF_INQUIRIES, dtype: int64"
            ]
          },
          "metadata": {
            "tags": []
          },
          "execution_count": 85
        }
      ]
    },
    {
      "cell_type": "code",
      "metadata": {
        "id": "qqihEIo-e2Es",
        "colab_type": "code",
        "outputId": "04880d5e-92c3-43ce-bc26-70ff3e1cfe84",
        "colab": {
          "base_uri": "https://localhost:8080/",
          "height": 346
        }
      },
      "source": [
        "train.describe()"
      ],
      "execution_count": 0,
      "outputs": [
        {
          "output_type": "execute_result",
          "data": {
            "text/html": [
              "<div>\n",
              "<style scoped>\n",
              "    .dataframe tbody tr th:only-of-type {\n",
              "        vertical-align: middle;\n",
              "    }\n",
              "\n",
              "    .dataframe tbody tr th {\n",
              "        vertical-align: top;\n",
              "    }\n",
              "\n",
              "    .dataframe thead th {\n",
              "        text-align: right;\n",
              "    }\n",
              "</style>\n",
              "<table border=\"1\" class=\"dataframe\">\n",
              "  <thead>\n",
              "    <tr style=\"text-align: right;\">\n",
              "      <th></th>\n",
              "      <th>UniqueID</th>\n",
              "      <th>disbursed_amount</th>\n",
              "      <th>asset_cost</th>\n",
              "      <th>ltv</th>\n",
              "      <th>branch_id</th>\n",
              "      <th>supplier_id</th>\n",
              "      <th>manufacturer_id</th>\n",
              "      <th>Current_pincode_ID</th>\n",
              "      <th>DisbursalDate</th>\n",
              "      <th>State_ID</th>\n",
              "      <th>...</th>\n",
              "      <th>SEC.DISBURSED.AMOUNT</th>\n",
              "      <th>PRIMARY.INSTAL.AMT</th>\n",
              "      <th>SEC.INSTAL.AMT</th>\n",
              "      <th>NEW.ACCTS.IN.LAST.SIX.MONTHS</th>\n",
              "      <th>DELINQUENT.ACCTS.IN.LAST.SIX.MONTHS</th>\n",
              "      <th>NO.OF_INQUIRIES</th>\n",
              "      <th>loan_default</th>\n",
              "      <th>Year.of.Birth</th>\n",
              "      <th>avg_acct_age_mnth</th>\n",
              "      <th>avg_credit_hist_mnth</th>\n",
              "    </tr>\n",
              "  </thead>\n",
              "  <tbody>\n",
              "    <tr>\n",
              "      <th>count</th>\n",
              "      <td>233154.000000</td>\n",
              "      <td>233154.000000</td>\n",
              "      <td>2.331540e+05</td>\n",
              "      <td>233154.000000</td>\n",
              "      <td>233154.000000</td>\n",
              "      <td>233154.000000</td>\n",
              "      <td>233154.000000</td>\n",
              "      <td>233154.000000</td>\n",
              "      <td>233154.0</td>\n",
              "      <td>233154.000000</td>\n",
              "      <td>...</td>\n",
              "      <td>2.331540e+05</td>\n",
              "      <td>2.331540e+05</td>\n",
              "      <td>2.331540e+05</td>\n",
              "      <td>233154.000000</td>\n",
              "      <td>233154.000000</td>\n",
              "      <td>233154.000000</td>\n",
              "      <td>233154.000000</td>\n",
              "      <td>233154.000000</td>\n",
              "      <td>233154.000000</td>\n",
              "      <td>233154.000000</td>\n",
              "    </tr>\n",
              "    <tr>\n",
              "      <th>mean</th>\n",
              "      <td>535917.573376</td>\n",
              "      <td>54356.993528</td>\n",
              "      <td>7.586507e+04</td>\n",
              "      <td>74.746530</td>\n",
              "      <td>72.936094</td>\n",
              "      <td>19638.635035</td>\n",
              "      <td>69.028054</td>\n",
              "      <td>3396.880247</td>\n",
              "      <td>2018.0</td>\n",
              "      <td>7.262243</td>\n",
              "      <td>...</td>\n",
              "      <td>7.179998e+03</td>\n",
              "      <td>1.310548e+04</td>\n",
              "      <td>3.232684e+02</td>\n",
              "      <td>0.381833</td>\n",
              "      <td>0.097481</td>\n",
              "      <td>0.206615</td>\n",
              "      <td>0.217071</td>\n",
              "      <td>1983.899054</td>\n",
              "      <td>8.915764</td>\n",
              "      <td>16.252404</td>\n",
              "    </tr>\n",
              "    <tr>\n",
              "      <th>std</th>\n",
              "      <td>68315.693711</td>\n",
              "      <td>12971.314171</td>\n",
              "      <td>1.894478e+04</td>\n",
              "      <td>11.456636</td>\n",
              "      <td>69.834995</td>\n",
              "      <td>3491.949566</td>\n",
              "      <td>22.141304</td>\n",
              "      <td>2238.147502</td>\n",
              "      <td>0.0</td>\n",
              "      <td>4.482230</td>\n",
              "      <td>...</td>\n",
              "      <td>1.825925e+05</td>\n",
              "      <td>1.513679e+05</td>\n",
              "      <td>1.555369e+04</td>\n",
              "      <td>0.955107</td>\n",
              "      <td>0.384439</td>\n",
              "      <td>0.706498</td>\n",
              "      <td>0.412252</td>\n",
              "      <td>9.805992</td>\n",
              "      <td>15.106416</td>\n",
              "      <td>28.581255</td>\n",
              "    </tr>\n",
              "    <tr>\n",
              "      <th>min</th>\n",
              "      <td>417428.000000</td>\n",
              "      <td>13320.000000</td>\n",
              "      <td>3.700000e+04</td>\n",
              "      <td>10.030000</td>\n",
              "      <td>1.000000</td>\n",
              "      <td>10524.000000</td>\n",
              "      <td>45.000000</td>\n",
              "      <td>1.000000</td>\n",
              "      <td>2018.0</td>\n",
              "      <td>1.000000</td>\n",
              "      <td>...</td>\n",
              "      <td>0.000000e+00</td>\n",
              "      <td>0.000000e+00</td>\n",
              "      <td>0.000000e+00</td>\n",
              "      <td>0.000000</td>\n",
              "      <td>0.000000</td>\n",
              "      <td>0.000000</td>\n",
              "      <td>0.000000</td>\n",
              "      <td>1949.000000</td>\n",
              "      <td>0.000000</td>\n",
              "      <td>0.000000</td>\n",
              "    </tr>\n",
              "    <tr>\n",
              "      <th>25%</th>\n",
              "      <td>476786.250000</td>\n",
              "      <td>47145.000000</td>\n",
              "      <td>6.571700e+04</td>\n",
              "      <td>68.880000</td>\n",
              "      <td>14.000000</td>\n",
              "      <td>16535.000000</td>\n",
              "      <td>48.000000</td>\n",
              "      <td>1511.000000</td>\n",
              "      <td>2018.0</td>\n",
              "      <td>4.000000</td>\n",
              "      <td>...</td>\n",
              "      <td>0.000000e+00</td>\n",
              "      <td>0.000000e+00</td>\n",
              "      <td>0.000000e+00</td>\n",
              "      <td>0.000000</td>\n",
              "      <td>0.000000</td>\n",
              "      <td>0.000000</td>\n",
              "      <td>0.000000</td>\n",
              "      <td>1977.000000</td>\n",
              "      <td>0.000000</td>\n",
              "      <td>0.000000</td>\n",
              "    </tr>\n",
              "    <tr>\n",
              "      <th>50%</th>\n",
              "      <td>535978.500000</td>\n",
              "      <td>53803.000000</td>\n",
              "      <td>7.094600e+04</td>\n",
              "      <td>76.800000</td>\n",
              "      <td>61.000000</td>\n",
              "      <td>20333.000000</td>\n",
              "      <td>86.000000</td>\n",
              "      <td>2970.000000</td>\n",
              "      <td>2018.0</td>\n",
              "      <td>6.000000</td>\n",
              "      <td>...</td>\n",
              "      <td>0.000000e+00</td>\n",
              "      <td>0.000000e+00</td>\n",
              "      <td>0.000000e+00</td>\n",
              "      <td>0.000000</td>\n",
              "      <td>0.000000</td>\n",
              "      <td>0.000000</td>\n",
              "      <td>0.000000</td>\n",
              "      <td>1986.000000</td>\n",
              "      <td>0.000000</td>\n",
              "      <td>0.000000</td>\n",
              "    </tr>\n",
              "    <tr>\n",
              "      <th>75%</th>\n",
              "      <td>595039.750000</td>\n",
              "      <td>60413.000000</td>\n",
              "      <td>7.920175e+04</td>\n",
              "      <td>83.670000</td>\n",
              "      <td>130.000000</td>\n",
              "      <td>23000.000000</td>\n",
              "      <td>86.000000</td>\n",
              "      <td>5677.000000</td>\n",
              "      <td>2018.0</td>\n",
              "      <td>10.000000</td>\n",
              "      <td>...</td>\n",
              "      <td>0.000000e+00</td>\n",
              "      <td>1.999000e+03</td>\n",
              "      <td>0.000000e+00</td>\n",
              "      <td>0.000000</td>\n",
              "      <td>0.000000</td>\n",
              "      <td>0.000000</td>\n",
              "      <td>0.000000</td>\n",
              "      <td>1992.000000</td>\n",
              "      <td>13.000000</td>\n",
              "      <td>24.000000</td>\n",
              "    </tr>\n",
              "    <tr>\n",
              "      <th>max</th>\n",
              "      <td>671084.000000</td>\n",
              "      <td>990572.000000</td>\n",
              "      <td>1.628992e+06</td>\n",
              "      <td>95.000000</td>\n",
              "      <td>261.000000</td>\n",
              "      <td>24803.000000</td>\n",
              "      <td>156.000000</td>\n",
              "      <td>7345.000000</td>\n",
              "      <td>2018.0</td>\n",
              "      <td>22.000000</td>\n",
              "      <td>...</td>\n",
              "      <td>3.000000e+07</td>\n",
              "      <td>2.564281e+07</td>\n",
              "      <td>4.170901e+06</td>\n",
              "      <td>35.000000</td>\n",
              "      <td>20.000000</td>\n",
              "      <td>36.000000</td>\n",
              "      <td>1.000000</td>\n",
              "      <td>2000.000000</td>\n",
              "      <td>369.000000</td>\n",
              "      <td>468.000000</td>\n",
              "    </tr>\n",
              "  </tbody>\n",
              "</table>\n",
              "<p>8 rows × 39 columns</p>\n",
              "</div>"
            ],
            "text/plain": [
              "            UniqueID  disbursed_amount    asset_cost            ltv  \\\n",
              "count  233154.000000     233154.000000  2.331540e+05  233154.000000   \n",
              "mean   535917.573376      54356.993528  7.586507e+04      74.746530   \n",
              "std     68315.693711      12971.314171  1.894478e+04      11.456636   \n",
              "min    417428.000000      13320.000000  3.700000e+04      10.030000   \n",
              "25%    476786.250000      47145.000000  6.571700e+04      68.880000   \n",
              "50%    535978.500000      53803.000000  7.094600e+04      76.800000   \n",
              "75%    595039.750000      60413.000000  7.920175e+04      83.670000   \n",
              "max    671084.000000     990572.000000  1.628992e+06      95.000000   \n",
              "\n",
              "           branch_id    supplier_id  manufacturer_id  Current_pincode_ID  \\\n",
              "count  233154.000000  233154.000000    233154.000000       233154.000000   \n",
              "mean       72.936094   19638.635035        69.028054         3396.880247   \n",
              "std        69.834995    3491.949566        22.141304         2238.147502   \n",
              "min         1.000000   10524.000000        45.000000            1.000000   \n",
              "25%        14.000000   16535.000000        48.000000         1511.000000   \n",
              "50%        61.000000   20333.000000        86.000000         2970.000000   \n",
              "75%       130.000000   23000.000000        86.000000         5677.000000   \n",
              "max       261.000000   24803.000000       156.000000         7345.000000   \n",
              "\n",
              "       DisbursalDate       State_ID          ...           \\\n",
              "count       233154.0  233154.000000          ...            \n",
              "mean          2018.0       7.262243          ...            \n",
              "std              0.0       4.482230          ...            \n",
              "min           2018.0       1.000000          ...            \n",
              "25%           2018.0       4.000000          ...            \n",
              "50%           2018.0       6.000000          ...            \n",
              "75%           2018.0      10.000000          ...            \n",
              "max           2018.0      22.000000          ...            \n",
              "\n",
              "       SEC.DISBURSED.AMOUNT  PRIMARY.INSTAL.AMT  SEC.INSTAL.AMT  \\\n",
              "count          2.331540e+05        2.331540e+05    2.331540e+05   \n",
              "mean           7.179998e+03        1.310548e+04    3.232684e+02   \n",
              "std            1.825925e+05        1.513679e+05    1.555369e+04   \n",
              "min            0.000000e+00        0.000000e+00    0.000000e+00   \n",
              "25%            0.000000e+00        0.000000e+00    0.000000e+00   \n",
              "50%            0.000000e+00        0.000000e+00    0.000000e+00   \n",
              "75%            0.000000e+00        1.999000e+03    0.000000e+00   \n",
              "max            3.000000e+07        2.564281e+07    4.170901e+06   \n",
              "\n",
              "       NEW.ACCTS.IN.LAST.SIX.MONTHS  DELINQUENT.ACCTS.IN.LAST.SIX.MONTHS  \\\n",
              "count                 233154.000000                        233154.000000   \n",
              "mean                       0.381833                             0.097481   \n",
              "std                        0.955107                             0.384439   \n",
              "min                        0.000000                             0.000000   \n",
              "25%                        0.000000                             0.000000   \n",
              "50%                        0.000000                             0.000000   \n",
              "75%                        0.000000                             0.000000   \n",
              "max                       35.000000                            20.000000   \n",
              "\n",
              "       NO.OF_INQUIRIES   loan_default  Year.of.Birth  avg_acct_age_mnth  \\\n",
              "count    233154.000000  233154.000000  233154.000000      233154.000000   \n",
              "mean          0.206615       0.217071    1983.899054           8.915764   \n",
              "std           0.706498       0.412252       9.805992          15.106416   \n",
              "min           0.000000       0.000000    1949.000000           0.000000   \n",
              "25%           0.000000       0.000000    1977.000000           0.000000   \n",
              "50%           0.000000       0.000000    1986.000000           0.000000   \n",
              "75%           0.000000       0.000000    1992.000000          13.000000   \n",
              "max          36.000000       1.000000    2000.000000         369.000000   \n",
              "\n",
              "       avg_credit_hist_mnth  \n",
              "count         233154.000000  \n",
              "mean              16.252404  \n",
              "std               28.581255  \n",
              "min                0.000000  \n",
              "25%                0.000000  \n",
              "50%                0.000000  \n",
              "75%               24.000000  \n",
              "max              468.000000  \n",
              "\n",
              "[8 rows x 39 columns]"
            ]
          },
          "metadata": {
            "tags": []
          },
          "execution_count": 86
        }
      ]
    },
    {
      "cell_type": "code",
      "metadata": {
        "id": "-GrvGtwl_wIX",
        "colab_type": "code",
        "outputId": "d963356b-3a22-4e18-ee69-932ac9e35d8c",
        "colab": {
          "base_uri": "https://localhost:8080/",
          "height": 34
        }
      },
      "source": [
        "train.shape"
      ],
      "execution_count": 0,
      "outputs": [
        {
          "output_type": "execute_result",
          "data": {
            "text/plain": [
              "(233154, 44)"
            ]
          },
          "metadata": {
            "tags": []
          },
          "execution_count": 87
        }
      ]
    },
    {
      "cell_type": "code",
      "metadata": {
        "id": "FVJKLHFy0ZB7",
        "colab_type": "code",
        "outputId": "fffd25eb-4263-4523-beb0-c96d3398b2c4",
        "colab": {
          "base_uri": "https://localhost:8080/",
          "height": 405
        }
      },
      "source": [
        "plt.boxplot(train['disbursed_amount'])"
      ],
      "execution_count": 0,
      "outputs": [
        {
          "output_type": "execute_result",
          "data": {
            "text/plain": [
              "{'boxes': [<matplotlib.lines.Line2D at 0x7f9a8c08b978>],\n",
              " 'caps': [<matplotlib.lines.Line2D at 0x7f9a81eef898>,\n",
              "  <matplotlib.lines.Line2D at 0x7f9a81eefcf8>],\n",
              " 'fliers': [<matplotlib.lines.Line2D at 0x7f9a81eef2b0>],\n",
              " 'means': [],\n",
              " 'medians': [<matplotlib.lines.Line2D at 0x7f9a81eef710>],\n",
              " 'whiskers': [<matplotlib.lines.Line2D at 0x7f9a8c08bb00>,\n",
              "  <matplotlib.lines.Line2D at 0x7f9a8c08bd30>]}"
            ]
          },
          "metadata": {
            "tags": []
          },
          "execution_count": 88
        },
        {
          "output_type": "display_data",
          "data": {
            "image/png": "[encoded data removed]",
            "text/plain": [
              "<Figure size 432x288 with 1 Axes>"
            ]
          },
          "metadata": {
            "tags": []
          }
        }
      ]
    },
    {
      "cell_type": "code",
      "metadata": {
        "id": "J5PDYKnX0-Hh",
        "colab_type": "code",
        "colab": {}
      },
      "source": [
        "train = train[train['disbursed_amount']<400000]"
      ],
      "execution_count": 0,
      "outputs": []
    },
    {
      "cell_type": "code",
      "metadata": {
        "id": "cx43zyuT1-w1",
        "colab_type": "code",
        "outputId": "62498fa8-6906-4018-b9b9-3981535d9311",
        "colab": {
          "base_uri": "https://localhost:8080/",
          "height": 98
        }
      },
      "source": [
        "train[train['disbursed_amount']>400000]"
      ],
      "execution_count": 0,
      "outputs": [
        {
          "output_type": "execute_result",
          "data": {
            "text/html": [
              "<div>\n",
              "<style scoped>\n",
              "    .dataframe tbody tr th:only-of-type {\n",
              "        vertical-align: middle;\n",
              "    }\n",
              "\n",
              "    .dataframe tbody tr th {\n",
              "        vertical-align: top;\n",
              "    }\n",
              "\n",
              "    .dataframe thead th {\n",
              "        text-align: right;\n",
              "    }\n",
              "</style>\n",
              "<table border=\"1\" class=\"dataframe\">\n",
              "  <thead>\n",
              "    <tr style=\"text-align: right;\">\n",
              "      <th></th>\n",
              "      <th>UniqueID</th>\n",
              "      <th>disbursed_amount</th>\n",
              "      <th>asset_cost</th>\n",
              "      <th>ltv</th>\n",
              "      <th>branch_id</th>\n",
              "      <th>supplier_id</th>\n",
              "      <th>manufacturer_id</th>\n",
              "      <th>Current_pincode_ID</th>\n",
              "      <th>Date.of.Birth</th>\n",
              "      <th>Employment.Type</th>\n",
              "      <th>...</th>\n",
              "      <th>SEC.INSTAL.AMT</th>\n",
              "      <th>NEW.ACCTS.IN.LAST.SIX.MONTHS</th>\n",
              "      <th>DELINQUENT.ACCTS.IN.LAST.SIX.MONTHS</th>\n",
              "      <th>AVERAGE.ACCT.AGE</th>\n",
              "      <th>CREDIT.HISTORY.LENGTH</th>\n",
              "      <th>NO.OF_INQUIRIES</th>\n",
              "      <th>loan_default</th>\n",
              "      <th>Year.of.Birth</th>\n",
              "      <th>avg_acct_age_mnth</th>\n",
              "      <th>avg_credit_hist_mnth</th>\n",
              "    </tr>\n",
              "  </thead>\n",
              "  <tbody>\n",
              "  </tbody>\n",
              "</table>\n",
              "<p>0 rows × 44 columns</p>\n",
              "</div>"
            ],
            "text/plain": [
              "Empty DataFrame\n",
              "Columns: [UniqueID, disbursed_amount, asset_cost, ltv, branch_id, supplier_id, manufacturer_id, Current_pincode_ID, Date.of.Birth, Employment.Type, DisbursalDate, State_ID, Employee_code_ID, MobileNo_Avl_Flag, Aadhar_flag, PAN_flag, VoterID_flag, Driving_flag, Passport_flag, PERFORM_CNS.SCORE, PERFORM_CNS.SCORE.DESCRIPTION, PRI.NO.OF.ACCTS, PRI.ACTIVE.ACCTS, PRI.OVERDUE.ACCTS, PRI.CURRENT.BALANCE, PRI.SANCTIONED.AMOUNT, PRI.DISBURSED.AMOUNT, SEC.NO.OF.ACCTS, SEC.ACTIVE.ACCTS, SEC.OVERDUE.ACCTS, SEC.CURRENT.BALANCE, SEC.SANCTIONED.AMOUNT, SEC.DISBURSED.AMOUNT, PRIMARY.INSTAL.AMT, SEC.INSTAL.AMT, NEW.ACCTS.IN.LAST.SIX.MONTHS, DELINQUENT.ACCTS.IN.LAST.SIX.MONTHS, AVERAGE.ACCT.AGE, CREDIT.HISTORY.LENGTH, NO.OF_INQUIRIES, loan_default, Year.of.Birth, avg_acct_age_mnth, avg_credit_hist_mnth]\n",
              "Index: []\n",
              "\n",
              "[0 rows x 44 columns]"
            ]
          },
          "metadata": {
            "tags": []
          },
          "execution_count": 90
        }
      ]
    },
    {
      "cell_type": "code",
      "metadata": {
        "id": "deHWYLOa0rDx",
        "colab_type": "code",
        "outputId": "b9bed073-55ff-40dd-e183-b6994d931bcc",
        "colab": {
          "base_uri": "https://localhost:8080/",
          "height": 405
        }
      },
      "source": [
        "plt.boxplot(train['asset_cost'])"
      ],
      "execution_count": 0,
      "outputs": [
        {
          "output_type": "execute_result",
          "data": {
            "text/plain": [
              "{'boxes': [<matplotlib.lines.Line2D at 0x7f9a81a019e8>],\n",
              " 'caps': [<matplotlib.lines.Line2D at 0x7f9a81a01048>,\n",
              "  <matplotlib.lines.Line2D at 0x7f9a81e1f278>],\n",
              " 'fliers': [<matplotlib.lines.Line2D at 0x7f9a81e1f9e8>],\n",
              " 'means': [],\n",
              " 'medians': [<matplotlib.lines.Line2D at 0x7f9a81e1f550>],\n",
              " 'whiskers': [<matplotlib.lines.Line2D at 0x7f9a81a01a90>,\n",
              "  <matplotlib.lines.Line2D at 0x7f9a81a01f60>]}"
            ]
          },
          "metadata": {
            "tags": []
          },
          "execution_count": 91
        },
        {
          "output_type": "display_data",
          "data": {
            "image/png": "[encoded data removed]",
            "text/plain": [
              "<Figure size 432x288 with 1 Axes>"
            ]
          },
          "metadata": {
            "tags": []
          }
        }
      ]
    },
    {
      "cell_type": "code",
      "metadata": {
        "id": "wN-XRbTH2dt0",
        "colab_type": "code",
        "outputId": "89a44ae2-61a4-45e9-ac17-fb77d8bde2a6",
        "colab": {
          "base_uri": "https://localhost:8080/",
          "height": 98
        }
      },
      "source": [
        "train[train['asset_cost']>1000000]"
      ],
      "execution_count": 0,
      "outputs": [
        {
          "output_type": "execute_result",
          "data": {
            "text/html": [
              "<div>\n",
              "<style scoped>\n",
              "    .dataframe tbody tr th:only-of-type {\n",
              "        vertical-align: middle;\n",
              "    }\n",
              "\n",
              "    .dataframe tbody tr th {\n",
              "        vertical-align: top;\n",
              "    }\n",
              "\n",
              "    .dataframe thead th {\n",
              "        text-align: right;\n",
              "    }\n",
              "</style>\n",
              "<table border=\"1\" class=\"dataframe\">\n",
              "  <thead>\n",
              "    <tr style=\"text-align: right;\">\n",
              "      <th></th>\n",
              "      <th>UniqueID</th>\n",
              "      <th>disbursed_amount</th>\n",
              "      <th>asset_cost</th>\n",
              "      <th>ltv</th>\n",
              "      <th>branch_id</th>\n",
              "      <th>supplier_id</th>\n",
              "      <th>manufacturer_id</th>\n",
              "      <th>Current_pincode_ID</th>\n",
              "      <th>Date.of.Birth</th>\n",
              "      <th>Employment.Type</th>\n",
              "      <th>...</th>\n",
              "      <th>SEC.INSTAL.AMT</th>\n",
              "      <th>NEW.ACCTS.IN.LAST.SIX.MONTHS</th>\n",
              "      <th>DELINQUENT.ACCTS.IN.LAST.SIX.MONTHS</th>\n",
              "      <th>AVERAGE.ACCT.AGE</th>\n",
              "      <th>CREDIT.HISTORY.LENGTH</th>\n",
              "      <th>NO.OF_INQUIRIES</th>\n",
              "      <th>loan_default</th>\n",
              "      <th>Year.of.Birth</th>\n",
              "      <th>avg_acct_age_mnth</th>\n",
              "      <th>avg_credit_hist_mnth</th>\n",
              "    </tr>\n",
              "  </thead>\n",
              "  <tbody>\n",
              "  </tbody>\n",
              "</table>\n",
              "<p>0 rows × 44 columns</p>\n",
              "</div>"
            ],
            "text/plain": [
              "Empty DataFrame\n",
              "Columns: [UniqueID, disbursed_amount, asset_cost, ltv, branch_id, supplier_id, manufacturer_id, Current_pincode_ID, Date.of.Birth, Employment.Type, DisbursalDate, State_ID, Employee_code_ID, MobileNo_Avl_Flag, Aadhar_flag, PAN_flag, VoterID_flag, Driving_flag, Passport_flag, PERFORM_CNS.SCORE, PERFORM_CNS.SCORE.DESCRIPTION, PRI.NO.OF.ACCTS, PRI.ACTIVE.ACCTS, PRI.OVERDUE.ACCTS, PRI.CURRENT.BALANCE, PRI.SANCTIONED.AMOUNT, PRI.DISBURSED.AMOUNT, SEC.NO.OF.ACCTS, SEC.ACTIVE.ACCTS, SEC.OVERDUE.ACCTS, SEC.CURRENT.BALANCE, SEC.SANCTIONED.AMOUNT, SEC.DISBURSED.AMOUNT, PRIMARY.INSTAL.AMT, SEC.INSTAL.AMT, NEW.ACCTS.IN.LAST.SIX.MONTHS, DELINQUENT.ACCTS.IN.LAST.SIX.MONTHS, AVERAGE.ACCT.AGE, CREDIT.HISTORY.LENGTH, NO.OF_INQUIRIES, loan_default, Year.of.Birth, avg_acct_age_mnth, avg_credit_hist_mnth]\n",
              "Index: []\n",
              "\n",
              "[0 rows x 44 columns]"
            ]
          },
          "metadata": {
            "tags": []
          },
          "execution_count": 92
        }
      ]
    },
    {
      "cell_type": "markdown",
      "metadata": {
        "id": "n7hTyg0ibift",
        "colab_type": "text"
      },
      "source": [
        ""
      ]
    },
    {
      "cell_type": "code",
      "metadata": {
        "id": "EmIZ4SqMABmY",
        "colab_type": "code",
        "colab": {}
      },
      "source": [
        "X = train\n",
        "y = train.iloc[:,40]"
      ],
      "execution_count": 0,
      "outputs": []
    },
    {
      "cell_type": "code",
      "metadata": {
        "id": "3MeG5lUzAa_s",
        "colab_type": "code",
        "outputId": "f27fc75a-3c59-403d-bae7-941cccddd03b",
        "colab": {
          "base_uri": "https://localhost:8080/",
          "height": 119
        }
      },
      "source": [
        "y.head()"
      ],
      "execution_count": 0,
      "outputs": [
        {
          "output_type": "execute_result",
          "data": {
            "text/plain": [
              "0    0\n",
              "1    1\n",
              "2    0\n",
              "3    1\n",
              "4    1\n",
              "Name: loan_default, dtype: int64"
            ]
          },
          "metadata": {
            "tags": []
          },
          "execution_count": 94
        }
      ]
    },
    {
      "cell_type": "code",
      "metadata": {
        "id": "m3e-V6KhcbHF",
        "colab_type": "code",
        "outputId": "22653f37-0de6-4585-9e26-ef99b951e486",
        "colab": {
          "base_uri": "https://localhost:8080/",
          "height": 272
        }
      },
      "source": [
        "train.columns"
      ],
      "execution_count": 0,
      "outputs": [
        {
          "output_type": "execute_result",
          "data": {
            "text/plain": [
              "Index(['UniqueID', 'disbursed_amount', 'asset_cost', 'ltv', 'branch_id',\n",
              "       'supplier_id', 'manufacturer_id', 'Current_pincode_ID', 'Date.of.Birth',\n",
              "       'Employment.Type', 'DisbursalDate', 'State_ID', 'Employee_code_ID',\n",
              "       'MobileNo_Avl_Flag', 'Aadhar_flag', 'PAN_flag', 'VoterID_flag',\n",
              "       'Driving_flag', 'Passport_flag', 'PERFORM_CNS.SCORE',\n",
              "       'PERFORM_CNS.SCORE.DESCRIPTION', 'PRI.NO.OF.ACCTS', 'PRI.ACTIVE.ACCTS',\n",
              "       'PRI.OVERDUE.ACCTS', 'PRI.CURRENT.BALANCE', 'PRI.SANCTIONED.AMOUNT',\n",
              "       'PRI.DISBURSED.AMOUNT', 'SEC.NO.OF.ACCTS', 'SEC.ACTIVE.ACCTS',\n",
              "       'SEC.OVERDUE.ACCTS', 'SEC.CURRENT.BALANCE', 'SEC.SANCTIONED.AMOUNT',\n",
              "       'SEC.DISBURSED.AMOUNT', 'PRIMARY.INSTAL.AMT', 'SEC.INSTAL.AMT',\n",
              "       'NEW.ACCTS.IN.LAST.SIX.MONTHS', 'DELINQUENT.ACCTS.IN.LAST.SIX.MONTHS',\n",
              "       'AVERAGE.ACCT.AGE', 'CREDIT.HISTORY.LENGTH', 'NO.OF_INQUIRIES',\n",
              "       'loan_default', 'Year.of.Birth', 'avg_acct_age_mnth',\n",
              "       'avg_credit_hist_mnth'],\n",
              "      dtype='object')"
            ]
          },
          "metadata": {
            "tags": []
          },
          "execution_count": 95
        }
      ]
    },
    {
      "cell_type": "code",
      "metadata": {
        "id": "kWlqsaAXs4dH",
        "colab_type": "code",
        "colab": {}
      },
      "source": [
        "X.drop(columns = ['UniqueID','Date.of.Birth','DisbursalDate','loan_default','AVERAGE.ACCT.AGE', 'CREDIT.HISTORY.LENGTH'], axis =1, inplace = True)"
      ],
      "execution_count": 0,
      "outputs": []
    },
    {
      "cell_type": "code",
      "metadata": {
        "id": "ym5bJkfuAmAf",
        "colab_type": "code",
        "outputId": "ebce4047-6d48-4ea3-c542-91dab8f81f65",
        "colab": {
          "base_uri": "https://localhost:8080/",
          "height": 238
        }
      },
      "source": [
        "X.columns"
      ],
      "execution_count": 0,
      "outputs": [
        {
          "output_type": "execute_result",
          "data": {
            "text/plain": [
              "Index(['disbursed_amount', 'asset_cost', 'ltv', 'branch_id', 'supplier_id',\n",
              "       'manufacturer_id', 'Current_pincode_ID', 'Employment.Type', 'State_ID',\n",
              "       'Employee_code_ID', 'MobileNo_Avl_Flag', 'Aadhar_flag', 'PAN_flag',\n",
              "       'VoterID_flag', 'Driving_flag', 'Passport_flag', 'PERFORM_CNS.SCORE',\n",
              "       'PERFORM_CNS.SCORE.DESCRIPTION', 'PRI.NO.OF.ACCTS', 'PRI.ACTIVE.ACCTS',\n",
              "       'PRI.OVERDUE.ACCTS', 'PRI.CURRENT.BALANCE', 'PRI.SANCTIONED.AMOUNT',\n",
              "       'PRI.DISBURSED.AMOUNT', 'SEC.NO.OF.ACCTS', 'SEC.ACTIVE.ACCTS',\n",
              "       'SEC.OVERDUE.ACCTS', 'SEC.CURRENT.BALANCE', 'SEC.SANCTIONED.AMOUNT',\n",
              "       'SEC.DISBURSED.AMOUNT', 'PRIMARY.INSTAL.AMT', 'SEC.INSTAL.AMT',\n",
              "       'NEW.ACCTS.IN.LAST.SIX.MONTHS', 'DELINQUENT.ACCTS.IN.LAST.SIX.MONTHS',\n",
              "       'NO.OF_INQUIRIES', 'Year.of.Birth', 'avg_acct_age_mnth',\n",
              "       'avg_credit_hist_mnth'],\n",
              "      dtype='object')"
            ]
          },
          "metadata": {
            "tags": []
          },
          "execution_count": 97
        }
      ]
    },
    {
      "cell_type": "code",
      "metadata": {
        "id": "_S43Gdtn-iAi",
        "colab_type": "code",
        "colab": {}
      },
      "source": [
        "from sklearn.model_selection import train_test_split\n",
        "x_train, x_val, y_train, y_val = train_test_split(X,y,test_size = 0.25)"
      ],
      "execution_count": 0,
      "outputs": []
    },
    {
      "cell_type": "code",
      "metadata": {
        "id": "GZ0qlbKGBIgg",
        "colab_type": "code",
        "colab": {}
      },
      "source": [
        "# x_test.drop(columns = ['UniqueID','branch_id','supplier_id', 'manufacturer_id', 'Current_pincode_ID',\n",
        "#                         'Date.of.Birth','DisbursalDate', 'State_ID', 'Employee_code_ID','MobileNo_Avl_Flag'], axis =1, inplace = True)"
      ],
      "execution_count": 0,
      "outputs": []
    },
    {
      "cell_type": "code",
      "metadata": {
        "id": "Mp3PnWlxtTy9",
        "colab_type": "code",
        "colab": {}
      },
      "source": [
        "# categ_column = list(x_train.select_dtypes('object').columns)"
      ],
      "execution_count": 0,
      "outputs": []
    },
    {
      "cell_type": "code",
      "metadata": {
        "id": "70t7l-CzwFG6",
        "colab_type": "code",
        "colab": {}
      },
      "source": [
        "categ_column = ['branch_id',\t'supplier_id',\t'manufacturer_id',\t'Current_pincode_ID',\t'Employment.Type',\t'State_ID',\t'Employee_code_ID',\t'MobileNo_Avl_Flag',\t'Aadhar_flag',\t'PAN_flag',\t'VoterID_flag',\t'Driving_flag',\t'Passport_flag',\t'PERFORM_CNS.SCORE.DESCRIPTION']"
      ],
      "execution_count": 0,
      "outputs": []
    },
    {
      "cell_type": "code",
      "metadata": {
        "id": "ydTkFkHiq_14",
        "colab_type": "code",
        "outputId": "0f34d6ff-3b9c-467a-ab2d-e7b0bae6939e",
        "colab": {
          "base_uri": "https://localhost:8080/",
          "height": 173
        }
      },
      "source": [
        "!pip install catboost\n",
        "\n",
        "\n",
        "import catboost\n",
        "from catboost import Pool, CatBoostClassifier,cv\n"
      ],
      "execution_count": 0,
      "outputs": [
        {
          "output_type": "stream",
          "text": [
            "Requirement already satisfied: catboost in /usr/local/lib/python3.6/dist-packages (0.14.2)\n",
            "Requirement already satisfied: pandas>=0.19.1 in /usr/local/lib/python3.6/dist-packages (from catboost) (0.23.4)\n",
            "Requirement already satisfied: six in /usr/local/lib/python3.6/dist-packages (from catboost) (1.11.0)\n",
            "Requirement already satisfied: numpy>=1.11.1 in /usr/local/lib/python3.6/dist-packages (from catboost) (1.16.2)\n",
            "Requirement already satisfied: enum34 in /usr/local/lib/python3.6/dist-packages (from catboost) (1.1.6)\n",
            "Requirement already satisfied: graphviz in /usr/local/lib/python3.6/dist-packages (from catboost) (0.10.1)\n",
            "Requirement already satisfied: python-dateutil>=2.5.0 in /usr/local/lib/python3.6/dist-packages (from pandas>=0.19.1->catboost) (2.5.3)\n",
            "Requirement already satisfied: pytz>=2011k in /usr/local/lib/python3.6/dist-packages (from pandas>=0.19.1->catboost) (2018.9)\n"
          ],
          "name": "stdout"
        }
      ]
    },
    {
      "cell_type": "code",
      "metadata": {
        "id": "uBjI1Cohsn79",
        "colab_type": "code",
        "colab": {}
      },
      "source": [
        "_train = Pool(x_train, label=y_train,cat_features= categ_column)\n",
        "_valid = Pool(x_val, label=y_val,cat_features= categ_column)"
      ],
      "execution_count": 0,
      "outputs": []
    },
    {
      "cell_type": "code",
      "metadata": {
        "id": "wgy_ByOItgsm",
        "colab_type": "code",
        "outputId": "1bdcc088-cb28-4de1-9fdd-a570d60a08c2",
        "colab": {
          "base_uri": "https://localhost:8080/",
          "height": 122
        }
      },
      "source": [
        "model = CatBoostClassifier(subsample=0.6,\n",
        "                           custom_loss='Logloss',\n",
        "                           l2_leaf_reg = 10,\n",
        "                           random_strength = 0,\n",
        "                           max_depth=7,\n",
        "                           eval_metric=\"AUC\",\n",
        "                           learning_rate=0.03,\n",
        "                           iterations=60000,\n",
        "                           bootstrap_type='Bernoulli',\n",
        "                           task_type=\"GPU\",\n",
        "                           random_seed=42,\n",
        "                           od_type=\"Iter\")\n",
        "\n",
        "fit_model = model.fit(_train,verbose_eval=1000, early_stopping_rounds=100,eval_set=[_valid],use_best_model=True,plot=False)"
      ],
      "execution_count": 0,
      "outputs": [
        {
          "output_type": "stream",
          "text": [
            "0:\tlearn: 0.6313639\ttest: 0.6348948\tbest: 0.6348948 (0)\ttotal: 73.9ms\tremaining: 1h 13m 56s\n",
            "1000:\tlearn: 0.7091163\ttest: 0.6784089\tbest: 0.6784090 (997)\ttotal: 45.1s\tremaining: 44m 19s\n",
            "bestTest = 0.6790455282\n",
            "bestIteration = 1458\n",
            "Shrink model to first 1459 iterations.\n"
          ],
          "name": "stdout"
        }
      ]
    },
    {
      "cell_type": "code",
      "metadata": {
        "id": "RUBqwRvn0Jkr",
        "colab_type": "code",
        "outputId": "db233265-f7da-463a-c1b2-8c497d2a317e",
        "colab": {
          "base_uri": "https://localhost:8080/",
          "height": 255
        }
      },
      "source": [
        "test.columns"
      ],
      "execution_count": 0,
      "outputs": [
        {
          "output_type": "execute_result",
          "data": {
            "text/plain": [
              "Index(['UniqueID', 'disbursed_amount', 'asset_cost', 'ltv', 'branch_id',\n",
              "       'supplier_id', 'manufacturer_id', 'Current_pincode_ID', 'Date.of.Birth',\n",
              "       'Employment.Type', 'DisbursalDate', 'State_ID', 'Employee_code_ID',\n",
              "       'MobileNo_Avl_Flag', 'Aadhar_flag', 'PAN_flag', 'VoterID_flag',\n",
              "       'Driving_flag', 'Passport_flag', 'PERFORM_CNS.SCORE',\n",
              "       'PERFORM_CNS.SCORE.DESCRIPTION', 'PRI.NO.OF.ACCTS', 'PRI.ACTIVE.ACCTS',\n",
              "       'PRI.OVERDUE.ACCTS', 'PRI.CURRENT.BALANCE', 'PRI.SANCTIONED.AMOUNT',\n",
              "       'PRI.DISBURSED.AMOUNT', 'SEC.NO.OF.ACCTS', 'SEC.ACTIVE.ACCTS',\n",
              "       'SEC.OVERDUE.ACCTS', 'SEC.CURRENT.BALANCE', 'SEC.SANCTIONED.AMOUNT',\n",
              "       'SEC.DISBURSED.AMOUNT', 'PRIMARY.INSTAL.AMT', 'SEC.INSTAL.AMT',\n",
              "       'NEW.ACCTS.IN.LAST.SIX.MONTHS', 'DELINQUENT.ACCTS.IN.LAST.SIX.MONTHS',\n",
              "       'AVERAGE.ACCT.AGE', 'CREDIT.HISTORY.LENGTH', 'NO.OF_INQUIRIES',\n",
              "       'Year.of.Birth', 'avg_acct_age_mnth', 'avg_credit_hist_mnth'],\n",
              "      dtype='object')"
            ]
          },
          "metadata": {
            "tags": []
          },
          "execution_count": 105
        }
      ]
    },
    {
      "cell_type": "code",
      "metadata": {
        "id": "Nqh4TppMIyTL",
        "colab_type": "code",
        "colab": {}
      },
      "source": [
        "x_test = test\n",
        "x_test.drop(columns = ['UniqueID','Date.of.Birth','DisbursalDate','AVERAGE.ACCT.AGE','CREDIT.HISTORY.LENGTH'], axis =1, inplace = True)"
      ],
      "execution_count": 0,
      "outputs": []
    },
    {
      "cell_type": "code",
      "metadata": {
        "id": "MIaquQ1Jt-Mc",
        "colab_type": "code",
        "colab": {}
      },
      "source": [
        "y_pred = fit_model.predict_proba(x_test)[:,1]"
      ],
      "execution_count": 0,
      "outputs": []
    },
    {
      "cell_type": "code",
      "metadata": {
        "id": "si6lWyALC1Js",
        "colab_type": "code",
        "colab": {}
      },
      "source": [
        "final = pd.DataFrame(y_pred)"
      ],
      "execution_count": 0,
      "outputs": []
    },
    {
      "cell_type": "code",
      "metadata": {
        "id": "iVP3qUgeC8Fd",
        "colab_type": "code",
        "colab": {}
      },
      "source": [
        "final.to_csv('final.csv')"
      ],
      "execution_count": 0,
      "outputs": []
    }
  ]
}